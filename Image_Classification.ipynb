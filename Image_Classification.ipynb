{
  "nbformat": 4,
  "nbformat_minor": 0,
  "metadata": {
    "colab": {
      "name": "Image Classification.ipynb",
      "provenance": [],
      "authorship_tag": "ABX9TyNEHyYCaYieuaSpAevhczGJ",
      "include_colab_link": true
    },
    "kernelspec": {
      "name": "python3",
      "display_name": "Python 3"
    },
    "language_info": {
      "name": "python"
    }
  },
  "cells": [
    {
      "cell_type": "markdown",
      "metadata": {
        "id": "view-in-github",
        "colab_type": "text"
      },
      "source": [
        "<a href=\"https://colab.research.google.com/github/11911148/basics/blob/main/Image_Classification.ipynb\" target=\"_parent\"><img src=\"https://colab.research.google.com/assets/colab-badge.svg\" alt=\"Open In Colab\"/></a>"
      ]
    },
    {
      "cell_type": "code",
      "metadata": {
        "colab": {
          "base_uri": "https://localhost:8080/"
        },
        "id": "_Dayg82bCY8B",
        "outputId": "b93cdf9f-6e46-4a76-ceac-9f80ae06f3a3"
      },
      "source": [
        "!pip install ipython-autotime\n",
        "%load_ext autotime"
      ],
      "execution_count": 1,
      "outputs": [
        {
          "output_type": "stream",
          "text": [
            "Collecting ipython-autotime\n",
            "  Downloading https://files.pythonhosted.org/packages/b4/c9/b413a24f759641bc27ef98c144b590023c8038dfb8a3f09e713e9dff12c1/ipython_autotime-0.3.1-py2.py3-none-any.whl\n",
            "Requirement already satisfied: ipython in /usr/local/lib/python3.7/dist-packages (from ipython-autotime) (5.5.0)\n",
            "Requirement already satisfied: simplegeneric>0.8 in /usr/local/lib/python3.7/dist-packages (from ipython->ipython-autotime) (0.8.1)\n",
            "Requirement already satisfied: setuptools>=18.5 in /usr/local/lib/python3.7/dist-packages (from ipython->ipython-autotime) (57.0.0)\n",
            "Requirement already satisfied: decorator in /usr/local/lib/python3.7/dist-packages (from ipython->ipython-autotime) (4.4.2)\n",
            "Requirement already satisfied: traitlets>=4.2 in /usr/local/lib/python3.7/dist-packages (from ipython->ipython-autotime) (5.0.5)\n",
            "Requirement already satisfied: prompt-toolkit<2.0.0,>=1.0.4 in /usr/local/lib/python3.7/dist-packages (from ipython->ipython-autotime) (1.0.18)\n",
            "Requirement already satisfied: pexpect; sys_platform != \"win32\" in /usr/local/lib/python3.7/dist-packages (from ipython->ipython-autotime) (4.8.0)\n",
            "Requirement already satisfied: pygments in /usr/local/lib/python3.7/dist-packages (from ipython->ipython-autotime) (2.6.1)\n",
            "Requirement already satisfied: pickleshare in /usr/local/lib/python3.7/dist-packages (from ipython->ipython-autotime) (0.7.5)\n",
            "Requirement already satisfied: ipython-genutils in /usr/local/lib/python3.7/dist-packages (from traitlets>=4.2->ipython->ipython-autotime) (0.2.0)\n",
            "Requirement already satisfied: six>=1.9.0 in /usr/local/lib/python3.7/dist-packages (from prompt-toolkit<2.0.0,>=1.0.4->ipython->ipython-autotime) (1.15.0)\n",
            "Requirement already satisfied: wcwidth in /usr/local/lib/python3.7/dist-packages (from prompt-toolkit<2.0.0,>=1.0.4->ipython->ipython-autotime) (0.2.5)\n",
            "Requirement already satisfied: ptyprocess>=0.5 in /usr/local/lib/python3.7/dist-packages (from pexpect; sys_platform != \"win32\"->ipython->ipython-autotime) (0.7.0)\n",
            "Installing collected packages: ipython-autotime\n",
            "Successfully installed ipython-autotime-0.3.1\n",
            "time: 2.22 ms (started: 2021-06-28 05:14:14 +00:00)\n"
          ],
          "name": "stdout"
        }
      ]
    },
    {
      "cell_type": "code",
      "metadata": {
        "colab": {
          "base_uri": "https://localhost:8080/"
        },
        "id": "mvLJk57FCpdk",
        "outputId": "10af2f37-d832-4ec2-a1f8-26efeefdfc5e"
      },
      "source": [
        "!pip install bing-image-downloader"
      ],
      "execution_count": 2,
      "outputs": [
        {
          "output_type": "stream",
          "text": [
            "Collecting bing-image-downloader\n",
            "  Downloading https://files.pythonhosted.org/packages/c2/04/1872a689a30036aa0b81ac9fca124a7413cad71fdab714f727cf1a34b671/bing_image_downloader-1.1.1-py3-none-any.whl\n",
            "Installing collected packages: bing-image-downloader\n",
            "Successfully installed bing-image-downloader-1.1.1\n",
            "time: 3.15 s (started: 2021-06-28 05:14:50 +00:00)\n"
          ],
          "name": "stdout"
        }
      ]
    },
    {
      "cell_type": "code",
      "metadata": {
        "colab": {
          "base_uri": "https://localhost:8080/"
        },
        "id": "WOqfME3tCukA",
        "outputId": "f39d9ad3-855e-492f-f0e1-668b38ee23b0"
      },
      "source": [
        "from bing_image_downloader import downloader\n",
        "downloader.download(\"laptops\", limit=30, output_dir=\"images\", adult_filter_off=True)"
      ],
      "execution_count": 3,
      "outputs": [
        {
          "output_type": "stream",
          "text": [
            "[%] Downloading Images to /content/images/laptops\n",
            "\n",
            "\n",
            "[!!]Indexing page: 1\n",
            "\n",
            "[%] Indexed 30 Images on Page 1.\n",
            "\n",
            "===============================================\n",
            "\n",
            "[%] Downloading Image #1 from http://www.techpowerup.com/img/15-04-29/MSI_Prestige_Series_laptop_01.jpg\n",
            "[%] File Downloaded !\n",
            "\n",
            "[%] Downloading Image #2 from https://www.windowscentral.com/sites/wpcentral.com/files/styles/large/public/field/image/2021/01/msi_nb_ge66_raiderstandard_photo01.png\n",
            "[%] File Downloaded !\n",
            "\n",
            "[%] Downloading Image #3 from https://clickynews.com/wp-content/uploads/2019/12/Laptop-feature.jpg\n",
            "[%] File Downloaded !\n",
            "\n",
            "[%] Downloading Image #4 from http://novamesa.com/wp-content/uploads/2016/06/accel-xg1200-trans.png\n",
            "[%] File Downloaded !\n",
            "\n",
            "[%] Downloading Image #5 from https://www.vortez.net/news_file/6490_msi laptops featuring true colour technology.jpg\n",
            "[!] Issue getting: https://www.vortez.net/news_file/6490_msi laptops featuring true colour technology.jpg\n",
            "[!] Error:: URL can't contain control characters. '/news_file/6490_msi laptops featuring true colour technology.jpg' (found at least ' ')\n",
            "[%] Downloading Image #5 from https://www.windowscentral.com/sites/wpcentral.com/files/styles/large/public/field/image/2021/01/msi_ge76_raider.png\n",
            "[%] File Downloaded !\n",
            "\n",
            "[%] Downloading Image #6 from https://technofaq.org/wp-content/uploads/2020/11/laptops.jpg\n",
            "[%] File Downloaded !\n",
            "\n",
            "[%] Downloading Image #7 from https://tenzystech.com/wp-content/uploads/2020/08/Ordinary-vs-Gaming-Laptops.jpg\n",
            "[%] File Downloaded !\n",
            "\n",
            "[%] Downloading Image #8 from https://www.jcount.com/wp-content/uploads/2018/03/gaming-laptop.png\n",
            "[%] File Downloaded !\n",
            "\n",
            "[%] Downloading Image #9 from http://www.notebookcheck.net/fileadmin/Notebooks/News/_nc2/msi_pe70_2.jpg\n",
            "[%] File Downloaded !\n",
            "\n",
            "[%] Downloading Image #10 from https://th-test-11.slatic.net/p/true-idc-chromebook-11-8716-5946813-1aeba190d4f7f5d871921409ceb27a7e-catalog.jpg_720x720q75.jpg\n",
            "[%] File Downloaded !\n",
            "\n",
            "[%] Downloading Image #11 from https://cdn.windowsreport.com/wp-content/uploads/2016/03/windows-gaming-laptops-aorus-x7-pro-sync-740x480.jpg\n",
            "[%] File Downloaded !\n",
            "\n",
            "[%] Downloading Image #12 from https://www.notebookcheck.net/fileadmin/Notebooks/News/_nc2/msi_pe70_4.jpg\n",
            "[%] File Downloaded !\n",
            "\n",
            "[%] Downloading Image #13 from https://truemedian.com/wp-content/uploads/2020/09/142584-take-your-pc-gaming-on-the-road-with-these-powerful-gaming-laptops.jpg\n",
            "[%] File Downloaded !\n",
            "\n",
            "[%] Downloading Image #14 from https://cdn.pocket-lint.com/r/s/970x/assets/images/139843-laptops-news-lenovo-s-new-miix-720-2-in-1-is-a-true-surface-pro-4-competitor-image1-MmUvkNn72l.jpg\n",
            "[%] File Downloaded !\n",
            "\n",
            "[%] Downloading Image #15 from https://newyorkcomputerhelp.com/wp-content/uploads/2012/10/LaptopVsDesktop.jpg\n",
            "[%] File Downloaded !\n",
            "\n",
            "[%] Downloading Image #16 from https://assets.hardwarezone.com/img/2015/08/One-Cloudbook-AO1-131_left-facing_Win10-600W.jpg\n",
            "[%] File Downloaded !\n",
            "\n",
            "[%] Downloading Image #17 from https://www.bhphotovideo.com/images/images2500x2500/samsung_np900x5n_x01us_15_6_notebook_9_ext_1304857.jpg\n",
            "[%] File Downloaded !\n",
            "\n",
            "[%] Downloading Image #18 from http://www.bee-software.net/wp-content/uploads/2020/06/refurbished-laptops-768x326.jpg\n",
            "[Error]Invalid image, not saving http://www.bee-software.net/wp-content/uploads/2020/06/refurbished-laptops-768x326.jpg\n",
            "\n",
            "[!] Issue getting: http://www.bee-software.net/wp-content/uploads/2020/06/refurbished-laptops-768x326.jpg\n",
            "[!] Error:: Invalid image, not saving http://www.bee-software.net/wp-content/uploads/2020/06/refurbished-laptops-768x326.jpg\n",
            "\n",
            "[%] Downloading Image #18 from https://www.stuff.tv/sites/stuff.tv/files/brands/StuffIndia/MSI/promoted/main.jpg\n",
            "[%] File Downloaded !\n",
            "\n",
            "[%] Downloading Image #19 from https://www.notebookcheck.net/fileadmin/Notebooks/News/_nc2/msi_pe70_3.jpg\n",
            "[%] File Downloaded !\n",
            "\n",
            "[%] Downloading Image #20 from http://2.bp.blogspot.com/-8CL62INeWfU/Uat4lVFpw7I/AAAAAAAAFfs/p85IlGjdCHQ/s1600/ASUS-PQ321-True-4K-UHD-Monitor.jpg\n",
            "[%] File Downloaded !\n",
            "\n",
            "[%] Downloading Image #21 from https://tenzystech.com/wp-content/uploads/2020/08/Performanace.jpg\n",
            "[%] File Downloaded !\n",
            "\n",
            "[%] Downloading Image #22 from https://i1.wp.com/gadgets.boingboing.net/filesroot/gatewaycseries.jpg\n",
            "[!] Issue getting: https://i1.wp.com/gadgets.boingboing.net/filesroot/gatewaycseries.jpg\n",
            "[!] Error:: HTTP Error 400: Bad Request\n",
            "[%] Downloading Image #22 from https://d2g8igdw686xgo.cloudfront.net/53599114_1609267881817029_r.jpeg\n",
            "[%] File Downloaded !\n",
            "\n",
            "[%] Downloading Image #23 from https://i.ytimg.com/vi/U1sDo9v0uuM/maxresdefault.jpg\n",
            "[%] File Downloaded !\n",
            "\n",
            "[%] Downloading Image #24 from https://truemedian.com/wp-content/uploads/2021/06/191555-the-best-asus-laptops-of-2021.jpg\n",
            "[%] File Downloaded !\n",
            "\n",
            "[%] Downloading Image #25 from https://www.notebookcheck.net/fileadmin/Notebooks/Sonstiges/Banner_1200x600.jpg\n",
            "[%] File Downloaded !\n",
            "\n",
            "[%] Downloading Image #26 from https://i.etsystatic.com/14603442/r/il/4f83ec/2840792776/il_1140xN.2840792776_20el.jpg\n",
            "[%] File Downloaded !\n",
            "\n",
            "[%] Downloading Image #27 from https://truemedian.com/wp-content/uploads/2020/10/145341-quick-tip-you-can-find-usb-c-adapter-cables-for-charging-some-older-laptops-1536x864.jpg\n",
            "[%] File Downloaded !\n",
            "\n",
            "\n",
            "\n",
            "[!!]Indexing page: 2\n",
            "\n",
            "[%] Indexed 35 Images on Page 2.\n",
            "\n",
            "===============================================\n",
            "\n",
            "[%] Downloading Image #28 from http://www.techpowerup.com/img/15-04-29/MSI_Prestige_Series_laptop_01.jpg\n",
            "[%] File Downloaded !\n",
            "\n",
            "[%] Downloading Image #29 from https://www.windowscentral.com/sites/wpcentral.com/files/styles/large/public/field/image/2021/01/msi_nb_ge66_raiderstandard_photo01.png\n",
            "[%] File Downloaded !\n",
            "\n",
            "[%] Downloading Image #30 from https://clickynews.com/wp-content/uploads/2019/12/Laptop-feature.jpg\n",
            "[%] File Downloaded !\n",
            "\n",
            "\n",
            "\n",
            "[%] Done. Downloaded 30 images.\n",
            "===============================================\n",
            "\n",
            "Please show your support here\n",
            "https://www.buymeacoffee.com/gurugaurav\n",
            "\n",
            "===============================================\n",
            "\n",
            "time: 19.3 s (started: 2021-06-28 05:15:11 +00:00)\n"
          ],
          "name": "stdout"
        }
      ]
    },
    {
      "cell_type": "code",
      "metadata": {
        "colab": {
          "base_uri": "https://localhost:8080/"
        },
        "id": "sjtVgrugC2sY",
        "outputId": "177e8c08-cd09-4741-c0eb-2b6347828747"
      },
      "source": [
        "from bing_image_downloader import downloader\n",
        "downloader.download(\"mobiles\", limit=30, output_dir=\"images\", adult_filter_off=True)"
      ],
      "execution_count": 4,
      "outputs": [
        {
          "output_type": "stream",
          "text": [
            "[%] Downloading Images to /content/images/mobiles\n",
            "\n",
            "\n",
            "[!!]Indexing page: 1\n",
            "\n",
            "[%] Indexed 30 Images on Page 1.\n",
            "\n",
            "===============================================\n",
            "\n",
            "[%] Downloading Image #1 from https://i.pinimg.com/474x/f7/4c/76/f74c769c0dff78b8319559b44ba5c25f--crossword-puzzle.jpg\n",
            "[%] File Downloaded !\n",
            "\n",
            "[%] Downloading Image #2 from http://maktechblog.com/wp-content/uploads/2014/06/Micromax-MAd.jpg\n",
            "[%] File Downloaded !\n",
            "\n",
            "[%] Downloading Image #3 from https://www.mostinside.com/wp-content/uploads/2016/09/Best-Camera-Mobiles-2016-4.png\n",
            "[%] File Downloaded !\n",
            "\n",
            "[%] Downloading Image #4 from https://lookaside.fbsbx.com/lookaside/crawler/media/?media_id=198698250892424\n",
            "[Error]Invalid image, not saving https://lookaside.fbsbx.com/lookaside/crawler/media/?media_id=198698250892424\n",
            "\n",
            "[!] Issue getting: https://lookaside.fbsbx.com/lookaside/crawler/media/?media_id=198698250892424\n",
            "[!] Error:: Invalid image, not saving https://lookaside.fbsbx.com/lookaside/crawler/media/?media_id=198698250892424\n",
            "\n",
            "[%] Downloading Image #4 from https://www.mobilesjin.com/wp-content/uploads/2018/06/samsung-J4-2.png\n",
            "[%] File Downloaded !\n",
            "\n",
            "[%] Downloading Image #5 from https://www.techxcite.com/topics/25735/filemanager/Lenovo-Vibe-C.jpg\n",
            "[%] File Downloaded !\n",
            "\n",
            "[%] Downloading Image #6 from https://i.pinimg.com/originals/03/a8/5f/03a85f8428fff23f2f9ca854d3f2cc03.jpg\n",
            "[%] File Downloaded !\n",
            "\n",
            "[%] Downloading Image #7 from http://www.techguide.com.au/wp-content/uploads/motox2.png\n",
            "[%] File Downloaded !\n",
            "\n",
            "[%] Downloading Image #8 from https://thetruegadgets.com/wp-content/uploads/2018/02/sdjb.jpg\n",
            "[%] File Downloaded !\n",
            "\n",
            "[%] Downloading Image #9 from https://www.mobilesjin.com/wp-content/uploads/2018/08/Oppo-R7-Plus-1.png\n",
            "[%] File Downloaded !\n",
            "\n",
            "[%] Downloading Image #10 from https://lookaside.fbsbx.com/lookaside/crawler/media/?media_id=198517300910519\n",
            "[Error]Invalid image, not saving https://lookaside.fbsbx.com/lookaside/crawler/media/?media_id=198517300910519\n",
            "\n",
            "[!] Issue getting: https://lookaside.fbsbx.com/lookaside/crawler/media/?media_id=198517300910519\n",
            "[!] Error:: Invalid image, not saving https://lookaside.fbsbx.com/lookaside/crawler/media/?media_id=198517300910519\n",
            "\n",
            "[%] Downloading Image #10 from https://i.ytimg.com/vi/bs3I8xRfc6c/maxresdefault.jpg\n",
            "[%] File Downloaded !\n",
            "\n",
            "[%] Downloading Image #11 from https://n4.sdlcdn.com/imgs/g/z/o/4-449aa.jpg\n",
            "[%] File Downloaded !\n",
            "\n",
            "[%] Downloading Image #12 from https://www.mobilesjin.com/wp-content/uploads/2018/05/Oppo-F7-1.png\n",
            "[%] File Downloaded !\n",
            "\n",
            "[%] Downloading Image #13 from https://s1.poorvikamobile.com/image/data/AAA Acc/Soundlogic/Soundlogic TWE002 True Beats Wireless Earbuds/soundlogic-twe002-true-beats-wireless-earbuds-4351_ios.jpeg\n",
            "[!] Issue getting: https://s1.poorvikamobile.com/image/data/AAA Acc/Soundlogic/Soundlogic TWE002 True Beats Wireless Earbuds/soundlogic-twe002-true-beats-wireless-earbuds-4351_ios.jpeg\n",
            "[!] Error:: URL can't contain control characters. '/image/data/AAA Acc/Soundlogic/Soundlogic TWE002 True Beats Wireless Earbuds/soundlogic-twe002-true-beats-wireless-earbuds-4351_ios.jpeg' (found at least ' ')\n",
            "[%] Downloading Image #13 from https://i.ytimg.com/vi/9dSpBR6YWYw/maxresdefault.jpg\n",
            "[%] File Downloaded !\n",
            "\n",
            "[%] Downloading Image #14 from https://mobilesfirmware.com/wp-content/uploads/2018/04/true-smart-4g-gen-c-5.0-frp-unlock.png\n",
            "[%] File Downloaded !\n",
            "\n",
            "[%] Downloading Image #15 from https://static.hub.91mobiles.com/wp-content/uploads/2019/04/Nokia-True-Wireless-Earbuds-review-91mobiles-FB-feat.jpg\n",
            "[Error]Invalid image, not saving https://static.hub.91mobiles.com/wp-content/uploads/2019/04/Nokia-True-Wireless-Earbuds-review-91mobiles-FB-feat.jpg\n",
            "\n",
            "[!] Issue getting: https://static.hub.91mobiles.com/wp-content/uploads/2019/04/Nokia-True-Wireless-Earbuds-review-91mobiles-FB-feat.jpg\n",
            "[!] Error:: Invalid image, not saving https://static.hub.91mobiles.com/wp-content/uploads/2019/04/Nokia-True-Wireless-Earbuds-review-91mobiles-FB-feat.jpg\n",
            "\n",
            "[%] Downloading Image #15 from https://lh5.googleusercontent.com/g9kMDZKOHvS7z6n9xzeh0BimSLZZD5uMCM13ElMS8xXG__vuD_JD_ZhaEJbMpBeWU8oHqcheSYcnRw-tOw\n",
            "[%] File Downloaded !\n",
            "\n",
            "[%] Downloading Image #16 from https://i.pinimg.com/474x/cb/14/c7/cb14c793f39400a38f09b5dd73883a65--deep-blue-mobile-deals.jpg\n",
            "[%] File Downloaded !\n",
            "\n",
            "[%] Downloading Image #17 from https://www.soundmaxpro.com/wp-content/uploads/2018/02/My-Post-4-1024x576.jpg\n",
            "[%] File Downloaded !\n",
            "\n",
            "[%] Downloading Image #18 from https://www.suprememobiles.in/public/vendor/conceps-admin/assets/uploads/products/stppt1567864408/1.jpg\n",
            "[%] File Downloaded !\n",
            "\n",
            "[%] Downloading Image #19 from https://www.mobiles-denken.de/images/tz_portfolio_plus/image_gallery/125/prodir_qs40-_air_biotic_kugelschreiber_2.jpg\n",
            "[%] File Downloaded !\n",
            "\n",
            "[%] Downloading Image #20 from https://www.funzen.net/wp-content/uploads/2020/12/1607171134_Android-How-to-Speed-​​Up-an-Original-or-Chinese-Android.jpg\n",
            "[!] Issue getting: https://www.funzen.net/wp-content/uploads/2020/12/1607171134_Android-How-to-Speed-​​Up-an-Original-or-Chinese-Android.jpg\n",
            "[!] Error:: 'ascii' codec can't encode characters in position 64-65: ordinal not in range(128)\n",
            "[%] Downloading Image #20 from https://www.mobiles-denken.de/images/tz_portfolio_plus/image_gallery/125/prodir_qs40-_air_biotic_kugelschreiber_3.jpg\n",
            "[%] File Downloaded !\n",
            "\n",
            "[%] Downloading Image #21 from https://i.pinimg.com/originals/36/81/0c/36810c8ffb6fe5957c825d33a980b03a.jpg\n",
            "[%] File Downloaded !\n",
            "\n",
            "[%] Downloading Image #22 from https://gamecry.com/wp-content/uploads/2017/11/adventure-communist-a-true-socia.jpg\n",
            "[%] File Downloaded !\n",
            "\n",
            "[%] Downloading Image #23 from https://i.pinimg.com/originals/95/bb/de/95bbde0d3e174c47548b52a2e2b38122.png\n",
            "[%] File Downloaded !\n",
            "\n",
            "[%] Downloading Image #24 from https://i.ytimg.com/vi/ZFAexCBIs0g/maxresdefault.jpg\n",
            "[%] File Downloaded !\n",
            "\n",
            "[%] Downloading Image #25 from https://i.pinimg.com/474x/09/e3/06/09e306a0cddf34b36fe7286ccae4a724--true-love-html.jpg\n",
            "[%] File Downloaded !\n",
            "\n",
            "\n",
            "\n",
            "[!!]Indexing page: 2\n",
            "\n",
            "[%] Indexed 35 Images on Page 2.\n",
            "\n",
            "===============================================\n",
            "\n",
            "[%] Downloading Image #26 from https://i.pinimg.com/474x/f7/4c/76/f74c769c0dff78b8319559b44ba5c25f--crossword-puzzle.jpg\n",
            "[%] File Downloaded !\n",
            "\n",
            "[%] Downloading Image #27 from http://maktechblog.com/wp-content/uploads/2014/06/Micromax-MAd.jpg\n",
            "[%] File Downloaded !\n",
            "\n",
            "[%] Downloading Image #28 from https://www.mostinside.com/wp-content/uploads/2016/09/Best-Camera-Mobiles-2016-4.png\n",
            "[%] File Downloaded !\n",
            "\n",
            "[%] Downloading Image #29 from https://lookaside.fbsbx.com/lookaside/crawler/media/?media_id=198698250892424\n",
            "[Error]Invalid image, not saving https://lookaside.fbsbx.com/lookaside/crawler/media/?media_id=198698250892424\n",
            "\n",
            "[!] Issue getting: https://lookaside.fbsbx.com/lookaside/crawler/media/?media_id=198698250892424\n",
            "[!] Error:: Invalid image, not saving https://lookaside.fbsbx.com/lookaside/crawler/media/?media_id=198698250892424\n",
            "\n",
            "[%] Downloading Image #29 from https://www.mobilesjin.com/wp-content/uploads/2018/06/samsung-J4-2.png\n",
            "[%] File Downloaded !\n",
            "\n",
            "[%] Downloading Image #30 from https://www.techxcite.com/topics/25735/filemanager/Lenovo-Vibe-C.jpg\n",
            "[%] File Downloaded !\n",
            "\n",
            "\n",
            "\n",
            "[%] Done. Downloaded 30 images.\n",
            "===============================================\n",
            "\n",
            "Please show your support here\n",
            "https://www.buymeacoffee.com/gurugaurav\n",
            "\n",
            "===============================================\n",
            "\n",
            "time: 25.2 s (started: 2021-06-28 05:15:44 +00:00)\n"
          ],
          "name": "stdout"
        }
      ]
    },
    {
      "cell_type": "code",
      "metadata": {
        "colab": {
          "base_uri": "https://localhost:8080/"
        },
        "id": "dD553c65DAjX",
        "outputId": "1a8e0234-8ea8-415b-cc5c-c8a29a0480d8"
      },
      "source": [
        "from bing_image_downloader import downloader\n",
        "downloader.download(\"washing machine\", limit=30, output_dir=\"images\", adult_filter_off=True)"
      ],
      "execution_count": 5,
      "outputs": [
        {
          "output_type": "stream",
          "text": [
            "[%] Downloading Images to /content/images/washing machine\n",
            "\n",
            "\n",
            "[!!]Indexing page: 1\n",
            "\n",
            "[%] Indexed 30 Images on Page 1.\n",
            "\n",
            "===============================================\n",
            "\n",
            "[%] Downloading Image #1 from https://www.lg.com/uk/images/washing-machines/md05786912/gallery/medium7.jpg\n",
            "[%] File Downloaded !\n",
            "\n",
            "[%] Downloading Image #2 from https://www.lg.com/uk/images/washing-machines/md05786912/gallery/medium6.jpg\n",
            "[%] File Downloaded !\n",
            "\n",
            "[%] Downloading Image #3 from https://electronicscentre.com.au/wp-content/uploads/2019/09/1WD1411SBW-6.jpg?x74867\n",
            "[Error]Invalid image, not saving https://electronicscentre.com.au/wp-content/uploads/2019/09/1WD1411SBW-6.jpg?x74867\n",
            "\n",
            "[!] Issue getting: https://electronicscentre.com.au/wp-content/uploads/2019/09/1WD1411SBW-6.jpg?x74867\n",
            "[!] Error:: Invalid image, not saving https://electronicscentre.com.au/wp-content/uploads/2019/09/1WD1411SBW-6.jpg?x74867\n",
            "\n",
            "[%] Downloading Image #3 from https://d1goonq8m6npha.cloudfront.net/uploads/imported/4/LG-FH6F9BDS2-12KG-Centum-System-Washing-Machine-True-Steam-Turbowash-Tech-254091465835-4.JPG\n",
            "[%] File Downloaded !\n",
            "\n",
            "[%] Downloading Image #4 from https://d1goonq8m6npha.cloudfront.net/uploads/imported/5/LG-FH6F9BDS2-12KG-Centum-System-Washing-Machine-True-Steam-Turbowash-Tech-254091465835.JPG\n",
            "[%] File Downloaded !\n",
            "\n",
            "[%] Downloading Image #5 from https://www.lg.com/uk/images/washing-machines/md05786912/gallery/medium2.jpg\n",
            "[%] File Downloaded !\n",
            "\n",
            "[%] Downloading Image #6 from https://d1goonq8m6npha.cloudfront.net/uploads/2019/10/large9.jpg\n",
            "[%] File Downloaded !\n",
            "\n",
            "[%] Downloading Image #7 from https://d1goonq8m6npha.cloudfront.net/uploads/imported/5/LG-FH6F9BDS2-12KG-Centum-System-Washing-Machine-True-Steam-Turbowash-Tech-254091465835-5.JPG\n",
            "[%] File Downloaded !\n",
            "\n",
            "[%] Downloading Image #8 from https://electronicscentre.com.au/wp-content/uploads/2020/05/lg-wd1411sbw-2.jpg?x83582\n",
            "[%] File Downloaded !\n",
            "\n",
            "[%] Downloading Image #9 from http://img.bidorbuy.co.za/image/upload/user_images/187/1952187/160509105843_F1495BDS7.jpg\n",
            "[%] File Downloaded !\n",
            "\n",
            "[%] Downloading Image #10 from https://www.kashy.co/wp-content/uploads/2019/05/A_12kg_Washing_Machine_with_True_Steam_1.jpg\n",
            "[%] File Downloaded !\n",
            "\n",
            "[%] Downloading Image #11 from https://www.lg.com/uk/images/washing-machines/md05786912/gallery/medium3.jpg\n",
            "[%] File Downloaded !\n",
            "\n",
            "[%] Downloading Image #12 from https://electronicscentre.com.au/wp-content/uploads/2020/05/lg-wd1411sbw-1.jpg\n",
            "[%] File Downloaded !\n",
            "\n",
            "[%] Downloading Image #13 from https://www.lg.com/uk/images/washing-machines/md05849476/gallery/Gallery_Small_04.jpg\n",
            "[%] File Downloaded !\n",
            "\n",
            "[%] Downloading Image #14 from https://www.lg.com/uk/images/washing-machines/md05786912/gallery/medium1.jpg\n",
            "[%] File Downloaded !\n",
            "\n",
            "[%] Downloading Image #15 from https://s.sdgcdn.com/7/2019/09/cb26bd30594914067d2319bede7f1477dddff549_FH4G1JCHP6N-1-600x600.jpg\n",
            "[%] File Downloaded !\n",
            "\n",
            "[%] Downloading Image #16 from https://www.lg.com/uk/images/washing-machines/md05786912/gallery/medium4.jpg\n",
            "[%] File Downloaded !\n",
            "\n",
            "[%] Downloading Image #17 from https://d1goonq8m6npha.cloudfront.net/uploads/imported/7/LG-FH6F9BDS2-12KG-Centum-System-Washing-Machine-True-Steam-Turbowash-Tech-254091465835-7.JPG\n",
            "[%] File Downloaded !\n",
            "\n",
            "[%] Downloading Image #18 from https://www.lg.com/eastafrica/images/washing-machines/md05959036/gallery/D02.jpg\n",
            "[%] File Downloaded !\n",
            "\n",
            "[%] Downloading Image #19 from https://d1goonq8m6npha.cloudfront.net/uploads/imported/0/LG-FH6F9BDS2-12KG-Centum-System-Washing-Machine-True-Steam-Turbowash-Tech-254091465835-10.JPG\n",
            "[%] File Downloaded !\n",
            "\n",
            "[%] Downloading Image #20 from https://d1goonq8m6npha.cloudfront.net/uploads/imported/2/LG-FH6F9BDS2-12KG-Centum-System-Washing-Machine-True-Steam-Turbowash-Tech-254091465835-2.JPG\n",
            "[%] File Downloaded !\n",
            "\n",
            "[%] Downloading Image #21 from https://d1goonq8m6npha.cloudfront.net/uploads/2019/12/KakaoTalk_20191218_124322102_04.jpg\n",
            "[%] File Downloaded !\n",
            "\n",
            "[%] Downloading Image #22 from https://www.lg.com/uk/images/washing-machines/md05786912/gallery/medium5.jpg\n",
            "[%] File Downloaded !\n",
            "\n",
            "[%] Downloading Image #23 from https://i.ebayimg.com/images/g/2IMAAOSwkiFdbTiR/s-l300.jpg\n",
            "[%] File Downloaded !\n",
            "\n",
            "[%] Downloading Image #24 from https://d1goonq8m6npha.cloudfront.net/uploads/imported/9/LG-FH6F9BDS2-12KG-Centum-System-Washing-Machine-True-Steam-Turbowash-Tech-254091465835-9.JPG\n",
            "[%] File Downloaded !\n",
            "\n",
            "[%] Downloading Image #25 from http://reclusivefox.com/wp-content/uploads/2014/09/LG-True-Steam.jpg\n",
            "[%] File Downloaded !\n",
            "\n",
            "[%] Downloading Image #26 from https://www.rd.com/wp-content/uploads/2019/06/shutterstock_1234217827.jpg\n",
            "[%] File Downloaded !\n",
            "\n",
            "[%] Downloading Image #27 from https://d1goonq8m6npha.cloudfront.net/uploads/imported/3/LG-FH6F9BDS2-12KG-Centum-System-Washing-Machine-True-Steam-Turbowash-Tech-254091465835-3.JPG\n",
            "[%] File Downloaded !\n",
            "\n",
            "[%] Downloading Image #28 from https://www.lg.com/eastafrica/images/washing-machines/md05937339/gallery/medium01.jpg\n",
            "[%] File Downloaded !\n",
            "\n",
            "[%] Downloading Image #29 from https://www.lg.com/eastafrica/images/washing-machines/md05959036/gallery/D01.jpg\n",
            "[%] File Downloaded !\n",
            "\n",
            "\n",
            "\n",
            "[!!]Indexing page: 2\n",
            "\n",
            "[%] Indexed 35 Images on Page 2.\n",
            "\n",
            "===============================================\n",
            "\n",
            "[%] Downloading Image #30 from https://www.lg.com/uk/images/washing-machines/md05786912/gallery/medium7.jpg\n",
            "[%] File Downloaded !\n",
            "\n",
            "\n",
            "\n",
            "[%] Done. Downloaded 30 images.\n",
            "===============================================\n",
            "\n",
            "Please show your support here\n",
            "https://www.buymeacoffee.com/gurugaurav\n",
            "\n",
            "===============================================\n",
            "\n",
            "time: 21.5 s (started: 2021-06-28 05:16:24 +00:00)\n"
          ],
          "name": "stdout"
        }
      ]
    },
    {
      "cell_type": "code",
      "metadata": {
        "colab": {
          "base_uri": "https://localhost:8080/"
        },
        "id": "fkIDMX1yDOPW",
        "outputId": "317725d7-f102-4be7-8d1e-dada4652306b"
      },
      "source": [
        "import os\n",
        "import matplotlib.pyplot as plt\n",
        "import numpy as np\n",
        "from skimage.io import imread\n",
        "from skimage.transform import resize\n",
        "\n",
        "targets = []\n",
        "images = []\n",
        "flatten_data = []\n",
        "datadir = '/content/images'\n",
        "categories = ['mobiles','laptops','washing machine']\n",
        "\n",
        "for cat in categories:\n",
        "  nums = categories.index(cat)\n",
        "  path = os.path.join(datadir,cat)\n",
        "  for img in os.listdir(path):\n",
        "    img_arr = imread(os.path.join(path,img))\n",
        "    # print(img_arr.shape)\n",
        "    # plt.imshow(img_arr)\n",
        "    img_resized = resize(img_arr,(150,150,3))\n",
        "    flatten_data.append(img_resized.flatten())\n",
        "    images.append(img_resized)\n",
        "    targets.append(nums)\n",
        "\n",
        "flatten_data = np.array(flatten_data)\n",
        "targets = np.array(targets)\n",
        "images = np.array(images)"
      ],
      "execution_count": 8,
      "outputs": [
        {
          "output_type": "stream",
          "text": [
            "time: 15.2 s (started: 2021-06-28 05:18:06 +00:00)\n"
          ],
          "name": "stdout"
        }
      ]
    },
    {
      "cell_type": "code",
      "metadata": {
        "colab": {
          "base_uri": "https://localhost:8080/",
          "height": 298
        },
        "id": "di-mcl0oDYVk",
        "outputId": "8ff49ade-e168-46c0-f483-57401ccc652b"
      },
      "source": [
        "unique,count = np.unique(targets,return_counts=True)\n",
        "plt.bar(categories,count,color='r')"
      ],
      "execution_count": 7,
      "outputs": [
        {
          "output_type": "execute_result",
          "data": {
            "text/plain": [
              "<BarContainer object of 3 artists>"
            ]
          },
          "metadata": {
            "tags": []
          },
          "execution_count": 7
        },
        {
          "output_type": "display_data",
          "data": {
            "image/png": "[encoded data removed]",
            "text/plain": [
              "<Figure size 432x288 with 1 Axes>"
            ]
          },
          "metadata": {
            "tags": [],
            "needs_background": "light"
          }
        },
        {
          "output_type": "stream",
          "text": [
            "time: 215 ms (started: 2021-06-28 05:18:02 +00:00)\n"
          ],
          "name": "stdout"
        }
      ]
    },
    {
      "cell_type": "code",
      "metadata": {
        "colab": {
          "base_uri": "https://localhost:8080/"
        },
        "id": "_T8MLoDKDhfA",
        "outputId": "7c0b3f48-d2b1-4d55-ae4c-5c16c42504d6"
      },
      "source": [
        "# Split data into Training and Testing\n",
        "from sklearn.model_selection import train_test_split\n",
        "x_train, x_test, y_train, y_test = train_test_split(flatten_data,targets,\n",
        "                                                    test_size=0.3,random_state=109)"
      ],
      "execution_count": 9,
      "outputs": [
        {
          "output_type": "stream",
          "text": [
            "time: 200 ms (started: 2021-06-28 05:18:39 +00:00)\n"
          ],
          "name": "stdout"
        }
      ]
    },
    {
      "cell_type": "code",
      "metadata": {
        "colab": {
          "base_uri": "https://localhost:8080/"
        },
        "id": "1R97zut0DnmH",
        "outputId": "6a79ef8c-6258-4010-90d1-ea93de4c3c26"
      },
      "source": [
        "from sklearn.model_selection import GridSearchCV\n",
        "from sklearn import svm\n",
        "param_grid = [\n",
        "              { 'C': [1,10,100,1000],'kernel':['linear'] },\n",
        "              { 'C': [1,10,100,1000],'gamma':[0.1,0.01,0.001,0.0001],'kernel':['rbf'] }\n",
        "]\n",
        "\n",
        "svc = svm.SVC(probability=True)\n",
        "clf = GridSearchCV(svc,param_grid)\n",
        "clf.fit(x_train,y_train)"
      ],
      "execution_count": 10,
      "outputs": [
        {
          "output_type": "execute_result",
          "data": {
            "text/plain": [
              "GridSearchCV(cv=None, error_score=nan,\n",
              "             estimator=SVC(C=1.0, break_ties=False, cache_size=200,\n",
              "                           class_weight=None, coef0=0.0,\n",
              "                           decision_function_shape='ovr', degree=3,\n",
              "                           gamma='scale', kernel='rbf', max_iter=-1,\n",
              "                           probability=True, random_state=None, shrinking=True,\n",
              "                           tol=0.001, verbose=False),\n",
              "             iid='deprecated', n_jobs=None,\n",
              "             param_grid=[{'C': [1, 10, 100, 1000], 'kernel': ['linear']},\n",
              "                         {'C': [1, 10, 100, 1000],\n",
              "                          'gamma': [0.1, 0.01, 0.001, 0.0001],\n",
              "                          'kernel': ['rbf']}],\n",
              "             pre_dispatch='2*n_jobs', refit=True, return_train_score=False,\n",
              "             scoring=None, verbose=0)"
            ]
          },
          "metadata": {
            "tags": []
          },
          "execution_count": 10
        },
        {
          "output_type": "stream",
          "text": [
            "time: 3min 14s (started: 2021-06-28 05:19:04 +00:00)\n"
          ],
          "name": "stdout"
        }
      ]
    },
    {
      "cell_type": "code",
      "metadata": {
        "colab": {
          "base_uri": "https://localhost:8080/"
        },
        "id": "LOjMY4a8Dt6u",
        "outputId": "6af1e7b5-540f-410c-b6ec-b83dc0e345fc"
      },
      "source": [
        "y_pred = clf.predict(x_test)\n",
        "y_pred"
      ],
      "execution_count": 11,
      "outputs": [
        {
          "output_type": "execute_result",
          "data": {
            "text/plain": [
              "array([1, 1, 1, 2, 2, 2, 1, 2, 0, 0, 0, 0, 2, 0, 2, 1, 2, 1, 1, 1, 1, 2,\n",
              "       2, 0, 0, 0, 2])"
            ]
          },
          "metadata": {
            "tags": []
          },
          "execution_count": 11
        },
        {
          "output_type": "stream",
          "text": [
            "time: 149 ms (started: 2021-06-28 05:22:18 +00:00)\n"
          ],
          "name": "stdout"
        }
      ]
    },
    {
      "cell_type": "code",
      "metadata": {
        "colab": {
          "base_uri": "https://localhost:8080/"
        },
        "id": "uup_-gqzDxif",
        "outputId": "2e413878-be46-4846-aa49-ce634db82d1e"
      },
      "source": [
        "y_test"
      ],
      "execution_count": 12,
      "outputs": [
        {
          "output_type": "execute_result",
          "data": {
            "text/plain": [
              "array([1, 0, 1, 2, 2, 1, 0, 1, 1, 0, 1, 0, 1, 2, 2, 1, 2, 1, 0, 1, 2, 2,\n",
              "       2, 0, 0, 0, 1])"
            ]
          },
          "metadata": {
            "tags": []
          },
          "execution_count": 12
        },
        {
          "output_type": "stream",
          "text": [
            "time: 5.23 ms (started: 2021-06-28 05:22:19 +00:00)\n"
          ],
          "name": "stdout"
        }
      ]
    },
    {
      "cell_type": "code",
      "metadata": {
        "colab": {
          "base_uri": "https://localhost:8080/"
        },
        "id": "_kUjwNyPD3ve",
        "outputId": "cea6549b-4688-479b-ca86-036bf21d6121"
      },
      "source": [
        "from sklearn.metrics import accuracy_score,confusion_matrix\n",
        "accuracy_score(y_pred,y_test)"
      ],
      "execution_count": 13,
      "outputs": [
        {
          "output_type": "execute_result",
          "data": {
            "text/plain": [
              "0.5925925925925926"
            ]
          },
          "metadata": {
            "tags": []
          },
          "execution_count": 13
        },
        {
          "output_type": "stream",
          "text": [
            "time: 6.06 ms (started: 2021-06-28 05:22:19 +00:00)\n"
          ],
          "name": "stdout"
        }
      ]
    },
    {
      "cell_type": "code",
      "metadata": {
        "colab": {
          "base_uri": "https://localhost:8080/"
        },
        "id": "U2aOIix0D8y8",
        "outputId": "69a2496d-3f85-4adf-c726-7908b48eddae"
      },
      "source": [
        "confusion_matrix(y_pred,y_test)"
      ],
      "execution_count": 14,
      "outputs": [
        {
          "output_type": "execute_result",
          "data": {
            "text/plain": [
              "array([[5, 2, 1],\n",
              "       [3, 5, 1],\n",
              "       [0, 4, 6]])"
            ]
          },
          "metadata": {
            "tags": []
          },
          "execution_count": 14
        },
        {
          "output_type": "stream",
          "text": [
            "time: 6.36 ms (started: 2021-06-28 05:22:19 +00:00)\n"
          ],
          "name": "stdout"
        }
      ]
    },
    {
      "cell_type": "code",
      "metadata": {
        "colab": {
          "base_uri": "https://localhost:8080/"
        },
        "id": "vqUyPs3NEB9o",
        "outputId": "16da1059-ef5e-42da-abc9-16f5142febe8"
      },
      "source": [
        "import pickle #Predict new image\n",
        "pickle.dump(clf,open('img_model.p','wb'))"
      ],
      "execution_count": 15,
      "outputs": [
        {
          "output_type": "stream",
          "text": [
            "time: 36.8 ms (started: 2021-06-28 05:22:19 +00:00)\n"
          ],
          "name": "stdout"
        }
      ]
    },
    {
      "cell_type": "code",
      "metadata": {
        "colab": {
          "base_uri": "https://localhost:8080/"
        },
        "id": "Z5_ScewLEGgn",
        "outputId": "3953dca7-f17a-451f-a2d1-d4797b972009"
      },
      "source": [
        "model = pickle.load(open('img_model.p','rb'))"
      ],
      "execution_count": 16,
      "outputs": [
        {
          "output_type": "stream",
          "text": [
            "time: 21.4 ms (started: 2021-06-28 05:22:19 +00:00)\n"
          ],
          "name": "stdout"
        }
      ]
    },
    {
      "cell_type": "code",
      "metadata": {
        "colab": {
          "base_uri": "https://localhost:8080/",
          "height": 336
        },
        "id": "UQkZB2t5EK51",
        "outputId": "f2e8b192-9f01-404c-c3aa-26975e6e5a3a"
      },
      "source": [
        "# Testing Output\n",
        "flatten_data = []\n",
        "url = input('Enter image URL from this categories(mobiles,laptops,washing machine)')\n",
        "img = imread(url)\n",
        "print(img.shape)\n",
        "img_resized = resize(img,(150,150,3))\n",
        "flatten_data.append(img_resized.flatten())\n",
        "flatten_data = np.array(flatten_data)\n",
        "plt.imshow(img_resized)\n",
        "y_out = model.predict(flatten_data)\n",
        "y_out = categories[y_out[0]]\n",
        "print(f'Predicted Output:{y_out}')"
      ],
      "execution_count": 19,
      "outputs": [
        {
          "output_type": "stream",
          "text": [
            "Enter image URL from this categories(mobiles,laptops,washing machine)https://th.bing.com/th/id/OIP.gRTjbmbarLCWzFtRGtAFEgHaHa?pid=ImgDet&rs=1\n",
            "(474, 474, 3)\n",
            "Predicted Output:laptops\n"
          ],
          "name": "stdout"
        },
        {
          "output_type": "display_data",
          "data": {
            "image/png": "[encoded data removed]",
            "text/plain": [
              "<Figure size 432x288 with 1 Axes>"
            ]
          },
          "metadata": {
            "tags": [],
            "needs_background": "light"
          }
        },
        {
          "output_type": "stream",
          "text": [
            "time: 2min 34s (started: 2021-06-28 05:43:07 +00:00)\n"
          ],
          "name": "stdout"
        }
      ]
    }
  ]
}